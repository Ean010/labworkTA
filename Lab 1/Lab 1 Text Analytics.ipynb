{
 "cells": [
  {
   "cell_type": "code",
   "execution_count": 7,
   "id": "c8d6c306-4891-4a20-b8e7-d3180a9eaf27",
   "metadata": {},
   "outputs": [
    {
     "name": "stdout",
     "output_type": "stream",
     "text": [
      "Reviews:\n",
      " 0    The product is amazing!\n",
      "1     Worst experience ever!\n",
      "Name: Review, dtype: object\n"
     ]
    }
   ],
   "source": [
    "import pandas as pd \n",
    "# Read the CSV file \n",
    "df = pd.read_csv('reviews.csv') \n",
    "print(\"Reviews:\\n\", df['Review'].head()) \n",
    "# Save the reviews column to a text file \n",
    "df['Review'].to_csv('stored_reviews.txt', index=False, header=False)"
   ]
  },
  {
   "cell_type": "code",
   "execution_count": 13,
   "id": "8271f007-fecb-40c8-aa7b-94144594513d",
   "metadata": {},
   "outputs": [
    {
     "name": "stdout",
     "output_type": "stream",
     "text": [
      "Raw Text:\n",
      " Hello, this is a sample text file.\n",
      "This is the second line.\n"
     ]
    }
   ],
   "source": [
    "# Read the content of the text file \n",
    "with open('sample.txt', 'r', encoding='utf-8') as file: \n",
    "   text_data = file.read() \n",
    "print(\"Raw Text:\\n\", text_data) "
   ]
  },
  {
   "cell_type": "code",
   "execution_count": 17,
   "id": "ad1a48c8-32ed-498f-b54a-619afc68d2e7",
   "metadata": {},
   "outputs": [],
   "source": [
    "# Store in another file \n",
    "with open('stored_text.txt', 'w', encoding='utf-8') as file: \n",
    "   file.write(text_data)"
   ]
  },
  {
   "cell_type": "code",
   "execution_count": 29,
   "id": "b6126f8b-0ba5-40bb-8570-281811e5cf43",
   "metadata": {},
   "outputs": [
    {
     "name": "stdout",
     "output_type": "stream",
     "text": [
      "Extracted City: New York\n"
     ]
    }
   ],
   "source": [
    "import json \n",
    " \n",
    "# Read the JSON file \n",
    "with open('social_data.json', 'r', encoding='utf-8') as file: \n",
    "    data = json.load(file) \n",
    "print(\"Extracted City:\", data['city']) \n",
    " \n",
    "# Store the extracted city to a file \n",
    "with open('stored_city.txt', 'w', encoding='utf-8') as file: \n",
    "    file.write(data['city']) "
   ]
  },
  {
   "cell_type": "code",
   "execution_count": 31,
   "id": "5b918893-3e2d-4a52-8387-762831887020",
   "metadata": {},
   "outputs": [
    {
     "name": "stdout",
     "output_type": "stream",
     "text": [
      "Extracted Title: AI is transforming industries\n"
     ]
    }
   ],
   "source": [
    "import xml.etree.ElementTree as ET \n",
    " \n",
    "# Parse the XML file \n",
    "tree = ET.parse('news.xml') \n",
    "root = tree.getroot() \n",
    " \n",
    "for article in root.findall('article'): \n",
    "    title = article.find('title').text \n",
    "    print(\"Extracted Title:\", title) \n",
    " \n",
    "# Store the extracted title to a file \n",
    "with open('stored_titles.txt', 'w', encoding='utf-8') as file: \n",
    "    for article in root.findall('article'): \n",
    "        title = article.find('title').text \n",
    "        file.write(title + '\\n')"
   ]
  },
  {
   "cell_type": "code",
   "execution_count": 33,
   "id": "536290df-743d-478f-a270-f7b5dbfc954d",
   "metadata": {},
   "outputs": [
    {
     "name": "stdout",
     "output_type": "stream",
     "text": [
      "Collecting PyPDF2Note: you may need to restart the kernel to use updated packages.\n",
      "\n",
      "  Downloading pypdf2-3.0.1-py3-none-any.whl.metadata (6.8 kB)\n",
      "Downloading pypdf2-3.0.1-py3-none-any.whl (232 kB)\n",
      "   ---------------------------------------- 0.0/232.6 kB ? eta -:--:--\n",
      "   - -------------------------------------- 10.2/232.6 kB ? eta -:--:--\n",
      "   ------------------------ --------------- 143.4/232.6 kB 2.8 MB/s eta 0:00:01\n",
      "   ---------------------------------------- 232.6/232.6 kB 2.9 MB/s eta 0:00:00\n",
      "Installing collected packages: PyPDF2\n",
      "Successfully installed PyPDF2-3.0.1\n"
     ]
    }
   ],
   "source": [
    "pip install PyPDF2"
   ]
  },
  {
   "cell_type": "code",
   "execution_count": 35,
   "id": "eefae199-8d07-4958-a96f-e2ab77ae6d78",
   "metadata": {},
   "outputs": [
    {
     "name": "stdout",
     "output_type": "stream",
     "text": [
      "Collecting seleniumNote: you may need to restart the kernel to use updated packages.\n",
      "\n",
      "  Downloading selenium-4.28.1-py3-none-any.whl.metadata (7.1 kB)\n",
      "Requirement already satisfied: urllib3<3,>=1.26 in c:\\users\\tiemi\\anaconda3\\lib\\site-packages (from urllib3[socks]<3,>=1.26->selenium) (2.2.2)\n",
      "Collecting trio~=0.17 (from selenium)\n",
      "  Downloading trio-0.29.0-py3-none-any.whl.metadata (8.5 kB)\n",
      "Collecting trio-websocket~=0.9 (from selenium)\n",
      "  Downloading trio_websocket-0.12.1-py3-none-any.whl.metadata (5.1 kB)\n",
      "Requirement already satisfied: certifi>=2021.10.8 in c:\\users\\tiemi\\anaconda3\\lib\\site-packages (from selenium) (2024.8.30)\n",
      "Requirement already satisfied: typing_extensions~=4.9 in c:\\users\\tiemi\\anaconda3\\lib\\site-packages (from selenium) (4.11.0)\n",
      "Requirement already satisfied: websocket-client~=1.8 in c:\\users\\tiemi\\anaconda3\\lib\\site-packages (from selenium) (1.8.0)\n",
      "Collecting attrs>=23.2.0 (from trio~=0.17->selenium)\n",
      "  Downloading attrs-25.1.0-py3-none-any.whl.metadata (10 kB)\n",
      "Requirement already satisfied: sortedcontainers in c:\\users\\tiemi\\anaconda3\\lib\\site-packages (from trio~=0.17->selenium) (2.4.0)\n",
      "Requirement already satisfied: idna in c:\\users\\tiemi\\anaconda3\\lib\\site-packages (from trio~=0.17->selenium) (3.7)\n",
      "Collecting outcome (from trio~=0.17->selenium)\n",
      "  Using cached outcome-1.3.0.post0-py2.py3-none-any.whl.metadata (2.6 kB)\n",
      "Requirement already satisfied: sniffio>=1.3.0 in c:\\users\\tiemi\\anaconda3\\lib\\site-packages (from trio~=0.17->selenium) (1.3.0)\n",
      "Requirement already satisfied: cffi>=1.14 in c:\\users\\tiemi\\anaconda3\\lib\\site-packages (from trio~=0.17->selenium) (1.16.0)\n",
      "Collecting wsproto>=0.14 (from trio-websocket~=0.9->selenium)\n",
      "  Using cached wsproto-1.2.0-py3-none-any.whl.metadata (5.6 kB)\n",
      "Requirement already satisfied: pysocks!=1.5.7,<2.0,>=1.5.6 in c:\\users\\tiemi\\anaconda3\\lib\\site-packages (from urllib3[socks]<3,>=1.26->selenium) (1.7.1)\n",
      "Requirement already satisfied: pycparser in c:\\users\\tiemi\\anaconda3\\lib\\site-packages (from cffi>=1.14->trio~=0.17->selenium) (2.21)\n",
      "Requirement already satisfied: h11<1,>=0.9.0 in c:\\users\\tiemi\\anaconda3\\lib\\site-packages (from wsproto>=0.14->trio-websocket~=0.9->selenium) (0.14.0)\n",
      "Downloading selenium-4.28.1-py3-none-any.whl (9.5 MB)\n",
      "   ---------------------------------------- 0.0/9.5 MB ? eta -:--:--\n",
      "   ---------------------------------------- 0.1/9.5 MB 3.3 MB/s eta 0:00:03\n",
      "   -- ------------------------------------- 0.6/9.5 MB 7.9 MB/s eta 0:00:02\n",
      "   ---- ----------------------------------- 1.1/9.5 MB 8.5 MB/s eta 0:00:01\n",
      "   ----- ---------------------------------- 1.3/9.5 MB 8.3 MB/s eta 0:00:01\n",
      "   --------- ------------------------------ 2.2/9.5 MB 10.0 MB/s eta 0:00:01\n",
      "   ----------- ---------------------------- 2.8/9.5 MB 10.4 MB/s eta 0:00:01\n",
      "   -------------- ------------------------- 3.4/9.5 MB 10.8 MB/s eta 0:00:01\n",
      "   ---------------- ----------------------- 3.9/9.5 MB 11.0 MB/s eta 0:00:01\n",
      "   ------------------- -------------------- 4.6/9.5 MB 11.3 MB/s eta 0:00:01\n",
      "   --------------------- ------------------ 5.2/9.5 MB 11.5 MB/s eta 0:00:01\n",
      "   ------------------------ --------------- 5.9/9.5 MB 11.7 MB/s eta 0:00:01\n",
      "   --------------------------- ------------ 6.5/9.5 MB 11.8 MB/s eta 0:00:01\n",
      "   ------------------------------ --------- 7.2/9.5 MB 12.1 MB/s eta 0:00:01\n",
      "   -------------------------------- ------- 7.7/9.5 MB 12.0 MB/s eta 0:00:01\n",
      "   ---------------------------------- ----- 8.1/9.5 MB 11.8 MB/s eta 0:00:01\n",
      "   ------------------------------------ --- 8.7/9.5 MB 11.8 MB/s eta 0:00:01\n",
      "   -------------------------------------- - 9.2/9.5 MB 11.8 MB/s eta 0:00:01\n",
      "   ---------------------------------------- 9.5/9.5 MB 11.5 MB/s eta 0:00:00\n",
      "Downloading trio-0.29.0-py3-none-any.whl (492 kB)\n",
      "   ---------------------------------------- 0.0/492.9 kB ? eta -:--:--\n",
      "   --------------------------------------- 492.9/492.9 kB 10.3 MB/s eta 0:00:00\n",
      "Downloading trio_websocket-0.12.1-py3-none-any.whl (21 kB)\n",
      "Downloading attrs-25.1.0-py3-none-any.whl (63 kB)\n",
      "   ---------------------------------------- 0.0/63.2 kB ? eta -:--:--\n",
      "   ---------------------------------------- 63.2/63.2 kB 3.3 MB/s eta 0:00:00\n",
      "Using cached outcome-1.3.0.post0-py2.py3-none-any.whl (10 kB)\n",
      "Using cached wsproto-1.2.0-py3-none-any.whl (24 kB)\n",
      "Installing collected packages: wsproto, attrs, outcome, trio, trio-websocket, selenium\n",
      "  Attempting uninstall: attrs\n",
      "    Found existing installation: attrs 23.1.0\n",
      "    Uninstalling attrs-23.1.0:\n",
      "      Successfully uninstalled attrs-23.1.0\n",
      "Successfully installed attrs-25.1.0 outcome-1.3.0.post0 selenium-4.28.1 trio-0.29.0 trio-websocket-0.12.1 wsproto-1.2.0\n"
     ]
    }
   ],
   "source": [
    "pip install selenium"
   ]
  },
  {
   "cell_type": "code",
   "execution_count": 43,
   "id": "e86011a5-b722-49e6-bf7b-59838cddda07",
   "metadata": {},
   "outputs": [
    {
     "name": "stdout",
     "output_type": "stream",
     "text": [
      "Extracted PDF Text:\n",
      " This is a sample PDF document.  \n",
      "AI is transforming industries and automation.  \n"
     ]
    }
   ],
   "source": [
    "import PyPDF2 \n",
    "# Read the PDF file \n",
    "with open('document.pdf', 'rb') as file: \n",
    "    reader = PyPDF2.PdfReader(file) \n",
    "    text = \"\\n\".join(page.extract_text() for page in reader.pages if page.extract_text()) \n",
    "# Print the extracted text \n",
    "print(\"Extracted PDF Text:\\n\", text) \n",
    "# Store the extracted text in a file \n",
    "with open('stored_pdf_text.txt', 'w', encoding='utf-8') as output: \n",
    "    output.write(text)"
   ]
  },
  {
   "cell_type": "code",
   "execution_count": 55,
   "id": "9b780f65-97ae-4d0b-82e3-045ca3ea9465",
   "metadata": {},
   "outputs": [
    {
     "name": "stdout",
     "output_type": "stream",
     "text": [
      "Extracted from PDF:\n",
      " Business Proposal  \n",
      "The Revolution is Coming  \n",
      "Leverage agile frameworks to provide a robust synopsis for high level  \n",
      "overviews. Iterative approaches to corporate strategy foster collaborative  \n",
      "thinking to further the overall value proposition. Organically grow the  \n",
      "holistic world view of disruptive innovation via workplace diversity and  \n",
      "empowerment.  \n",
      "Bring to the table win -win survival strategies to ensure proactive  \n",
      "domination. At the end of the day, going forward, a new normal that has  \n",
      "evolved from generation X is on the runway heading towards a streamlined  \n",
      "cloud solution. User generated content in real -time will have multi ple \n",
      "touchpoints for offshoring.  \n",
      "Capitalize on low hanging fruit to identify a ballpark value added activity to  \n",
      "beta test. Override the digital divide with additional clickthroughs from  \n",
      "DevOps. Nanotechnology immersion along the information highway will  \n",
      "close the loop on focusing solely on the bottom line.  \n",
      "Podcasting operational change management inside of workflows to  \n",
      "establish a framework. Taking seamless key performance indicators offline  \n",
      "to maximise the long tail. Keeping your eye on the ball while perfo rming a  \n",
      "deep dive on the start -up mentality to derive convergence on crossplatform  \n",
      "integration.  \n",
      "Collaboratively administrate empowered markets via plug -and-play \n",
      "networks. Dynamically procrastinate B2C users after installed base  \n",
      "benefits. Dramatically visua lize customer directed convergence without  \n",
      "revolutionary ROI.  \n",
      "Efficiently unleash cross -media information without cross -media value.  \n",
      "Quickly maximize timely deliverables for real -time schemas. Dramatically  \n",
      "maintain clicks -and-mortar solutions without funct ional solutio ns. \n",
      "  \n",
      "AUTHORS:  \n",
      "Amy Baker, Finance Chair, x345, abaker@ourcompany.com  \n",
      "Chris Donaldson, Accounting Dir., x621, cdonaldson@ourcompany.com  \n",
      "Erin Freeman, Sr. VP, x879, efreeman@ourcompany.com  \n"
     ]
    }
   ],
   "source": [
    "import PyPDF2 \n",
    "# Read the PDF file \n",
    "with open('Business_Proposal.pdf', 'rb') as file: \n",
    "    reader = PyPDF2.PdfReader(file) \n",
    "    text = \"\\n\".join(page.extract_text() for page in reader.pages if page.extract_text())\n",
    "# Print the extracted text \n",
    "print(\"Extracted from PDF:\\n\", text) \n",
    "# Store the extracted text in a file \n",
    "with open('business_proposal_all.txt', 'w', encoding='utf-8') as output: \n",
    "    output.write(text)"
   ]
  },
  {
   "cell_type": "code",
   "execution_count": 51,
   "id": "121b4f53-5965-4159-910b-8acfce4dc344",
   "metadata": {},
   "outputs": [
    {
     "name": "stdout",
     "output_type": "stream",
     "text": [
      "Extracted page 2:\n",
      " AUTHORS:  \n",
      "Amy Baker, Finance Chair, x345, abaker@ourcompany.com  \n",
      "Chris Donaldson, Accounting Dir., x621, cdonaldson@ourcompany.com  \n",
      "Erin Freeman, Sr. VP, x879, efreeman@ourcompany.com  \n"
     ]
    }
   ],
   "source": [
    "import PyPDF2 \n",
    "# Read the PDF file \n",
    "with open('Business_Proposal.pdf', 'rb') as file: \n",
    "    reader = PyPDF2.PdfReader(file)  \n",
    "    # Extract text from page 2 (index 1)\n",
    "    text = reader.pages[1].extract_text() if len(reader.pages) > 1 else \"\" \n",
    "# Print the extracted text \n",
    "print(\"Extracted page 2:\\n\", text) \n",
    "# Store the extracted text in a file \n",
    "with open('business_proposal_page_2.txt', 'w', encoding='utf-8') as output: \n",
    "    output.write(text)"
   ]
  }
 ],
 "metadata": {
  "kernelspec": {
   "display_name": "Python 3 (ipykernel)",
   "language": "python",
   "name": "python3"
  },
  "language_info": {
   "codemirror_mode": {
    "name": "ipython",
    "version": 3
   },
   "file_extension": ".py",
   "mimetype": "text/x-python",
   "name": "python",
   "nbconvert_exporter": "python",
   "pygments_lexer": "ipython3",
   "version": "3.12.4"
  }
 },
 "nbformat": 4,
 "nbformat_minor": 5
}
