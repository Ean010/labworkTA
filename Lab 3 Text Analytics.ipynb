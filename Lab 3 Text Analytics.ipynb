{
 "cells": [
  {
   "cell_type": "code",
   "execution_count": 1,
   "id": "38a404e5-08ce-4d2f-a164-2157aa26e5f7",
   "metadata": {},
   "outputs": [],
   "source": [
    "import requests"
   ]
  },
  {
   "cell_type": "code",
   "execution_count": 5,
   "id": "edff5fe9-1502-4c6f-b848-0b8634b87983",
   "metadata": {},
   "outputs": [
    {
     "data": {
      "text/plain": [
       "<Response [200]>"
      ]
     },
     "execution_count": 5,
     "metadata": {},
     "output_type": "execute_result"
    }
   ],
   "source": [
    "page = requests.get(\"https://dataquestio.github.io/web-scraping-pages/simple.html\")\n",
    "page"
   ]
  },
  {
   "cell_type": "code",
   "execution_count": 9,
   "id": "c0bf6bfa-6faa-4152-a70e-75b20d6dd655",
   "metadata": {},
   "outputs": [
    {
     "data": {
      "text/plain": [
       "['html',\n",
       " '\\n',\n",
       " <html>\n",
       " <head>\n",
       " <title>A simple example page</title>\n",
       " </head>\n",
       " <body>\n",
       " <p>Here is some simple content for this page.</p>\n",
       " </body>\n",
       " </html>]"
      ]
     },
     "execution_count": 9,
     "metadata": {},
     "output_type": "execute_result"
    }
   ],
   "source": [
    "from bs4 import BeautifulSoup\n",
    "soup = BeautifulSoup(page.content,'html.parser')\n",
    "\n",
    "list(soup.children)"
   ]
  },
  {
   "cell_type": "code",
   "execution_count": 11,
   "id": "0043cf4c-aa11-4a32-a6b8-55f7363319ee",
   "metadata": {},
   "outputs": [
    {
     "data": {
      "text/plain": [
       "<html>\n",
       "<head>\n",
       "<title>A simple example page</title>\n",
       "</head>\n",
       "<body>\n",
       "<p>Here is some simple content for this page.</p>\n",
       "</body>\n",
       "</html>"
      ]
     },
     "execution_count": 11,
     "metadata": {},
     "output_type": "execute_result"
    }
   ],
   "source": [
    "html = list(soup.children)[2]\n",
    "\n",
    "html"
   ]
  },
  {
   "cell_type": "code",
   "execution_count": 13,
   "id": "e48b293a-508c-48db-b931-dbcbf964cb05",
   "metadata": {},
   "outputs": [
    {
     "name": "stdout",
     "output_type": "stream",
     "text": [
      "Extracted Content: Here is some simple content for this page.\n"
     ]
    }
   ],
   "source": [
    "content = soup.find('p').get_text()\n",
    "\n",
    "print(\"Extracted Content:\", content)"
   ]
  },
  {
   "cell_type": "code",
   "execution_count": 21,
   "id": "6f7bec1b-00ec-4015-b5fd-319362e9df6a",
   "metadata": {},
   "outputs": [],
   "source": [
    "with open(\"extracted_data1.txt\", \"w\") as file:\n",
    "    file.write(content)"
   ]
  },
  {
   "cell_type": "code",
   "execution_count": 23,
   "id": "410dc887-e869-4432-af08-f96067315be8",
   "metadata": {},
   "outputs": [
    {
     "data": {
      "text/plain": [
       "'Here is some simple content for this page.'"
      ]
     },
     "execution_count": 23,
     "metadata": {},
     "output_type": "execute_result"
    }
   ],
   "source": [
    "content1 = soup.find('p').get_text()\n",
    "content1"
   ]
  },
  {
   "cell_type": "code",
   "execution_count": null,
   "id": "63aab9d8-5fef-410a-b720-befdb96ac34d",
   "metadata": {},
   "outputs": [],
   "source": []
  }
 ],
 "metadata": {
  "kernelspec": {
   "display_name": "Python 3 (ipykernel)",
   "language": "python",
   "name": "python3"
  },
  "language_info": {
   "codemirror_mode": {
    "name": "ipython",
    "version": 3
   },
   "file_extension": ".py",
   "mimetype": "text/x-python",
   "name": "python",
   "nbconvert_exporter": "python",
   "pygments_lexer": "ipython3",
   "version": "3.12.4"
  }
 },
 "nbformat": 4,
 "nbformat_minor": 5
}
